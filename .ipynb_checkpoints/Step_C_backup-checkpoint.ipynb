{
 "cells": [
  {
   "cell_type": "code",
   "execution_count": null,
   "id": "d5903d24",
   "metadata": {},
   "outputs": [],
   "source": [
    "easy = ['0','1','3','4','6','7','14','15','18','21','22','25','26']\n",
    "# 8 = 7\n",
    "# 11 = 1\n",
    "# 19 = 18\n",
    "# 23 = 20\n",
    "# 24 = 20 ma comunque non c'è\n",
    "\n",
    "file = 'scenes/h2.jpg'\n",
    "train_rgb = cv2.cvtColor(train,cv2.COLOR_GRAY2RGB)\n",
    "train_rgb_boxes = cv2.cvtColor(train,cv2.COLOR_GRAY2RGB)\n",
    "\n",
    "run(train_rgb_boxes,train_rgb,LOWE=0.8,PRECX=0.25,PRECY=0.25,MAXT=5,scale='max',query_names=easy)\n",
    "#run(train_rgb_boxes,train_rgb,LOWE=0.8,PRECX=0.25,PRECY=0.25,MAXT=5,scale='mean',query_names=['16'])\n",
    "run(train_rgb_boxes,train_rgb,LOWE=0.8,PRECX=0.3,PRECY=0.25,MAXT=5,scale='max',query_names=['20'])\n",
    "run(train_rgb_boxes,train_rgb,LOWE=0.75,PRECX=0.5,PRECY=0.4,MAXT=4,scale='mean',query_names=['17'])\n",
    "run(train_rgb_boxes,train_rgb,LOWE=0.65,PRECX=0.25,PRECY=0.5,MAXT=2,scale='mean',query_names=['2']) # 2 perché siamo al limite\n",
    "run(train_rgb_boxes,train_rgb,LOWE=0.8,PRECX=0.35,PRECY=0.35,MAXT=3,scale='max',query_names=['24'])\n",
    "run(train_rgb_boxes,train_rgb,LOWE=0.8,PRECX=0.25,PRECY=0.25,MAXT=5,scale='max',query_names=['5'])\n",
    "\n",
    "plt.imshow(train_rgb_boxes)\n",
    "plt.show()"
   ]
  },
  {
   "cell_type": "code",
   "execution_count": null,
   "id": "b62ae8eb",
   "metadata": {},
   "outputs": [],
   "source": [
    "easy = ['0','1','3','4','6','7','14','15','18','21','22','25','26']\n",
    "# 8 = 7\n",
    "# 11 = 1\n",
    "# 19 = 18\n",
    "# 23 = 20\n",
    "# 24 = 20 ma comunque non c'è\n",
    "\n",
    "file = 'scenes/h3.jpg'\n",
    "train = cv2.imread(file, 0)\n",
    "train_rgb = cv2.cvtColor(train,cv2.COLOR_GRAY2RGB)\n",
    "train_rgb_boxes = cv2.cvtColor(train,cv2.COLOR_GRAY2RGB)\n",
    "\n",
    "run(train_rgb_boxes,train_rgb,LOWE=0.8,PRECX=0.26,PRECY=0.25,MAXT=7,scale='max',query_names=easy)\n",
    "#run(train_rgb_boxes,train_rgb,LOWE=0.8,PRECX=0.25,PRECY=0.25,MAXT=5,scale='mean',query_names=['16'])\n",
    "run(train_rgb_boxes,train_rgb,LOWE=0.85,PRECX=0.3,PRECY=0.3,MAXT=4,scale='max',query_names=['20'])\n",
    "run(train_rgb_boxes,train_rgb,LOWE=0.75,PRECX=0.5,PRECY=0.4,MAXT=4,scale='mean',query_names=['17'])\n",
    "run(train_rgb_boxes,train_rgb,LOWE=0.8,PRECX=0.25,PRECY=0.5,MAXT=4,scale='mean',query_names=['2']) # 2 perché siamo al limite\n",
    "run(train_rgb_boxes,train_rgb,LOWE=0.8,PRECX=0.35,PRECY=0.35,MAXT=3,scale='max',query_names=['24'])\n",
    "run(train_rgb_boxes,train_rgb,LOWE=0.8,PRECX=0.25,PRECY=0.25,MAXT=5,scale='max',query_names=['5'])\n",
    "\n",
    "plt.imshow(train_rgb_boxes)\n",
    "plt.show()"
   ]
  },
  {
   "cell_type": "code",
   "execution_count": null,
   "id": "6c6159d4",
   "metadata": {},
   "outputs": [],
   "source": [
    "easy = ['0','1','3','4','6','7','14','15','18','21','22','25','26']\n",
    "# 8 = 7\n",
    "# 11 = 1\n",
    "# 19 = 18\n",
    "# 23 = 20\n",
    "# 24 = 20 ma comunque non c'è\n",
    "\n",
    "file = 'scenes/h5.jpg'\n",
    "train = cv2.imread(file, 0)\n",
    "train_rgb = cv2.cvtColor(train,cv2.COLOR_GRAY2RGB)\n",
    "train_rgb_boxes = cv2.cvtColor(train,cv2.COLOR_GRAY2RGB)\n",
    "\n",
    "run(train_rgb_boxes,train_rgb,LOWE=0.8,PRECX=0.26,PRECY=0.25,MAXT=7,scale='max',query_names=easy)\n",
    "#run(train_rgb_boxes,train_rgb,LOWE=0.8,PRECX=0.25,PRECY=0.25,MAXT=5,scale='mean',query_names=['16'])\n",
    "run(train_rgb_boxes,train_rgb,LOWE=0.83,PRECX=0.23,PRECY=0.3,MAXT=3,scale='mean',query_names=['20'])\n",
    "run(train_rgb_boxes,train_rgb,LOWE=0.75,PRECX=0.5,PRECY=0.4,MAXT=4,scale='mean',query_names=['17'])\n",
    "run(train_rgb_boxes,train_rgb,LOWE=0.65,PRECX=0.25,PRECY=0.5,MAXT=2,scale='mean',query_names=['2']) # 2 perché siamo al limite\n",
    "run(train_rgb_boxes,train_rgb,LOWE=0.8,PRECX=0.35,PRECY=0.35,MAXT=3,scale='max',query_names=['24'])\n",
    "run(train_rgb_boxes,train_rgb,LOWE=0.8,PRECX=0.25,PRECY=0.25,MAXT=5,scale='max',query_names=['5'])\n",
    "\n",
    "plt.imshow(train_rgb_boxes)\n",
    "plt.show()"
   ]
  },
  {
   "cell_type": "code",
   "execution_count": null,
   "id": "6ce47736",
   "metadata": {},
   "outputs": [],
   "source": [
    "for f in ['scenes/h2.jpg']: #,'scenes/h1.jpg','scenes/h3.jpg','scenes/h4.jpg','scenes/h5.jpg']:\n",
    "    _all = [str(x) for x in range(0,27)]\n",
    "\n",
    "    file = f\n",
    "    train_rgb = cv2.imread(file)\n",
    "    train_rgb_boxes = cv2.imread(file)\n",
    "\n",
    "    #run(train_rgb_boxes,train_rgb,LOWE=0.5,PRECX=0.2,PRECY=0.35,MAXT=2,scale='max',query_names=_all)\n",
    "    #run(train_rgb_boxes,train_rgb,LOWE=0.6,PRECX=0.2,PRECY=0.35,MAXT=2,scale='max',query_names=_all)\n",
    "    run(train_rgb_boxes,train_rgb,LOWE=0.6,PRECX=0.2,PRECY=0.35,MAXT=3,colorc = 50,scale='max',query_names=_all)\n",
    "\n",
    "    plt.imshow(train_rgb_boxes)\n",
    "    plt.show()"
   ]
  }
 ],
 "metadata": {
  "kernelspec": {
   "display_name": "Python 3",
   "language": "python",
   "name": "python3"
  },
  "language_info": {
   "codemirror_mode": {
    "name": "ipython",
    "version": 3
   },
   "file_extension": ".py",
   "mimetype": "text/x-python",
   "name": "python",
   "nbconvert_exporter": "python",
   "pygments_lexer": "ipython3",
   "version": "3.8.8"
  }
 },
 "nbformat": 4,
 "nbformat_minor": 5
}
